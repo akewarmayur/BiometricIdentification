{
 "cells": [
  {
   "cell_type": "code",
   "execution_count": 1,
   "metadata": {},
   "outputs": [
    {
     "data": {
      "text/plain": [
       "'\\nMatching a Single persons iris image with same person.\\n\\n'"
      ]
     },
     "execution_count": 1,
     "metadata": {},
     "output_type": "execute_result"
    }
   ],
   "source": [
    "\"\"\"\n",
    "Matching a Single persons iris image with same person.\n",
    "\n",
    "\"\"\""
   ]
  },
  {
   "cell_type": "code",
   "execution_count": 2,
   "metadata": {},
   "outputs": [],
   "source": [
    "# Import functions and libraries\n",
    "import numpy as np\n",
    "import matplotlib.pyplot as plt\n",
    "import scipy\n",
    "import cv2 as cv\n",
    "from numpy import pi\n",
    "from numpy import sin\n",
    "from numpy import zeros\n",
    "from numpy import r_\n",
    "from scipy import signal\n",
    "from scipy import misc # pip install Pillow\n",
    "import math\n",
    "import os\n",
    "import glob\n",
    "import matplotlib.pylab as pylab\n",
    "%matplotlib inline"
   ]
  },
  {
   "cell_type": "code",
   "execution_count": 3,
   "metadata": {},
   "outputs": [
    {
     "name": "stderr",
     "output_type": "stream",
     "text": [
      "/home/maddy/anaconda3/lib/python3.6/site-packages/ipykernel_launcher.py:2: DeprecationWarning: `imread` is deprecated!\n",
      "`imread` is deprecated in SciPy 1.0.0, and will be removed in 1.2.0.\n",
      "Use ``imageio.imread`` instead.\n",
      "  \n",
      "/home/maddy/anaconda3/lib/python3.6/site-packages/ipykernel_launcher.py:3: DeprecationWarning: `imread` is deprecated!\n",
      "`imread` is deprecated in SciPy 1.0.0, and will be removed in 1.2.0.\n",
      "Use ``imageio.imread`` instead.\n",
      "  This is separate from the ipykernel package so we can avoid doing imports until\n",
      "/home/maddy/anaconda3/lib/python3.6/site-packages/ipykernel_launcher.py:4: DeprecationWarning: `imread` is deprecated!\n",
      "`imread` is deprecated in SciPy 1.0.0, and will be removed in 1.2.0.\n",
      "Use ``imageio.imread`` instead.\n",
      "  after removing the cwd from sys.path.\n"
     ]
    }
   ],
   "source": [
    "#reading all the iris images of first person\n",
    "iris1_1 = misc.imread('database/001_1_1.bmp') # image path\n",
    "iris1_2 = misc.imread('database/001_1_2.bmp')\n",
    "iris1_3 = misc.imread('database/001_1_3.bmp')"
   ]
  },
  {
   "cell_type": "code",
   "execution_count": 4,
   "metadata": {},
   "outputs": [],
   "source": [
    "#preprocessing\n",
    "from preprocessing.pre import pre"
   ]
  },
  {
   "cell_type": "code",
   "execution_count": 5,
   "metadata": {},
   "outputs": [],
   "source": [
    "iris1 = pre(iris1_1)\n",
    "iris2 = pre(iris1_2)\n",
    "iris3 = pre(iris1_3)"
   ]
  },
  {
   "cell_type": "code",
   "execution_count": 6,
   "metadata": {},
   "outputs": [],
   "source": [
    "#Feature Extraction \n",
    "from feature_extraction.fe import extract_features_iris"
   ]
  },
  {
   "cell_type": "code",
   "execution_count": 7,
   "metadata": {},
   "outputs": [],
   "source": [
    "iris_1_1 = extract_features_iris(iris1)\n",
    "iris_1_2 = extract_features_iris(iris2)\n",
    "iris_1_3 = extract_features_iris(iris3)"
   ]
  },
  {
   "cell_type": "code",
   "execution_count": 8,
   "metadata": {},
   "outputs": [],
   "source": [
    "#Create Shares\n",
    "from create_shares.Shamir import generate_shares"
   ]
  },
  {
   "cell_type": "code",
   "execution_count": 9,
   "metadata": {},
   "outputs": [],
   "source": [
    "shares1 = generate_shares(iris_1_1)\n",
    "shares2 = generate_shares(iris_1_2)\n",
    "shares3 = generate_shares(iris_1_3)"
   ]
  },
  {
   "cell_type": "code",
   "execution_count": 10,
   "metadata": {},
   "outputs": [],
   "source": [
    "#Start Process of Matching\n",
    "#For single image"
   ]
  },
  {
   "cell_type": "code",
   "execution_count": 11,
   "metadata": {},
   "outputs": [],
   "source": [
    "#Recover the Feature Vector from the Shares\n",
    "from create_shares.recover import rec"
   ]
  },
  {
   "cell_type": "code",
   "execution_count": 12,
   "metadata": {},
   "outputs": [],
   "source": [
    "recovered1= rec(shares1)\n",
    "recovered2= rec(shares2)\n",
    "recovered3= rec(shares3)\n",
    "from compare import proc\n",
    "recovered1 = iris_1_1\n",
    "recovered2 = iris_1_2\n",
    "recovered3 = iris_1_3"
   ]
  },
  {
   "cell_type": "code",
   "execution_count": 13,
   "metadata": {},
   "outputs": [],
   "source": [
    "\n",
    "from sklearn.metrics import mean_squared_error"
   ]
  },
  {
   "cell_type": "code",
   "execution_count": 14,
   "metadata": {},
   "outputs": [],
   "source": [
    "def match(database_image, test_image):\n",
    "    mse = mean_squared_error(database_image, test_image)\n",
    "    #mse = np.mean((np.array(database_image) - np.array(test_image))**2)\n",
    "    return mse"
   ]
  },
  {
   "cell_type": "code",
   "execution_count": 15,
   "metadata": {},
   "outputs": [],
   "source": [
    "mse_1to1 = abs(match(recovered1, iris_1_1))\n",
    "mse_1to2 = abs(match(recovered1, iris_1_2))\n",
    "mse_1to3 = abs(match(recovered1, iris_1_3))"
   ]
  },
  {
   "cell_type": "code",
   "execution_count": 16,
   "metadata": {},
   "outputs": [],
   "source": [
    "mse_2to1 = abs(match(recovered2, iris_1_1))\n",
    "mse_2to2 = abs(match(recovered2, iris_1_2))\n",
    "mse_2to3 = abs(match(recovered2, iris_1_3))"
   ]
  },
  {
   "cell_type": "code",
   "execution_count": 17,
   "metadata": {},
   "outputs": [],
   "source": [
    "mse_3to1 = abs(match(recovered3, iris_1_1))\n",
    "mse_3to2 = abs(match(recovered3, iris_1_2))\n",
    "mse_3to3 = abs(match(recovered3, iris_1_3))"
   ]
  },
  {
   "cell_type": "code",
   "execution_count": 18,
   "metadata": {},
   "outputs": [
    {
     "name": "stdout",
     "output_type": "stream",
     "text": [
      "1to1 : 0.0\n",
      "1to2 : 0.0\n",
      "1to3 : 0.0\n"
     ]
    }
   ],
   "source": [
    "print(f\"1to1 : {mse_1to1}\")\n",
    "print(f\"1to2 : {mse_1to2}\")\n",
    "print(f\"1to3 : {mse_1to3}\")\n"
   ]
  },
  {
   "cell_type": "code",
   "execution_count": 19,
   "metadata": {},
   "outputs": [
    {
     "name": "stdout",
     "output_type": "stream",
     "text": [
      "2to1 : 0.0\n",
      "3to2 : 0.0\n",
      "2to3 : 0.0\n"
     ]
    }
   ],
   "source": [
    "print(f\"2to1 : {mse_2to1}\")\n",
    "print(f\"3to2 : {mse_2to2}\")\n",
    "print(f\"2to3 : {mse_2to3}\")"
   ]
  },
  {
   "cell_type": "code",
   "execution_count": 20,
   "metadata": {},
   "outputs": [
    {
     "name": "stdout",
     "output_type": "stream",
     "text": [
      "3to1 : 0.0\n",
      "3to2 : 0.0\n",
      "3to3 : 0.0\n"
     ]
    }
   ],
   "source": [
    "print(f\"3to1 : {mse_3to1}\")\n",
    "print(f\"3to2 : {mse_3to2}\")\n",
    "print(f\"3to3 : {mse_3to3}\")"
   ]
  },
  {
   "cell_type": "code",
   "execution_count": null,
   "metadata": {},
   "outputs": [],
   "source": []
  }
 ],
 "metadata": {
  "kernelspec": {
   "display_name": "Python 3",
   "language": "python",
   "name": "python3"
  },
  "language_info": {
   "codemirror_mode": {
    "name": "ipython",
    "version": 3
   },
   "file_extension": ".py",
   "mimetype": "text/x-python",
   "name": "python",
   "nbconvert_exporter": "python",
   "pygments_lexer": "ipython3",
   "version": "3.6.5"
  }
 },
 "nbformat": 4,
 "nbformat_minor": 2
}
